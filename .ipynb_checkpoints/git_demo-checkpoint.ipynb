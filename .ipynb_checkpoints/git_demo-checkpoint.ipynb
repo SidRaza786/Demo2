{
 "cells": [
  {
   "cell_type": "code",
   "execution_count": 22,
   "id": "51da69cf",
   "metadata": {},
   "outputs": [],
   "source": [
    "def permutation(Str):\n",
    "    Str1 = Str[::-1]\n",
    "    flag = False\n",
    "    if Str == Str1 :\n",
    "        flag = True\n",
    "    if flag :\n",
    "        print(\"reverse same\")\n",
    "    else:\n",
    "        print(\"not same\")"
   ]
  },
  {
   "cell_type": "code",
   "execution_count": 24,
   "id": "d12bd242",
   "metadata": {},
   "outputs": [
    {
     "name": "stdout",
     "output_type": "stream",
     "text": [
      "not same\n"
     ]
    }
   ],
   "source": [
    "permutation(\"abdbba\")"
   ]
  },
  {
   "cell_type": "code",
   "execution_count": 25,
   "id": "14e50188",
   "metadata": {},
   "outputs": [],
   "source": [
    "def Table(n):\n",
    "    if n == 0:\n",
    "        return 0\n",
    "    for i in range(1, 11):\n",
    "        print(n, \"X\", i, \" = \", n*i)"
   ]
  },
  {
   "cell_type": "code",
   "execution_count": 27,
   "id": "831db777",
   "metadata": {},
   "outputs": [
    {
     "name": "stdout",
     "output_type": "stream",
     "text": [
      "4\n",
      "4 X 1  =  4\n",
      "4 X 2  =  8\n",
      "4 X 3  =  12\n",
      "4 X 4  =  16\n",
      "4 X 5  =  20\n",
      "4 X 6  =  24\n",
      "4 X 7  =  28\n",
      "4 X 8  =  32\n",
      "4 X 9  =  36\n",
      "4 X 10  =  40\n"
     ]
    }
   ],
   "source": [
    "n = int(input())\n",
    "Table(n)"
   ]
  },
  {
   "cell_type": "code",
   "execution_count": null,
   "id": "c20b8824",
   "metadata": {},
   "outputs": [],
   "source": []
  }
 ],
 "metadata": {
  "kernelspec": {
   "display_name": "Python 3 (ipykernel)",
   "language": "python",
   "name": "python3"
  },
  "language_info": {
   "codemirror_mode": {
    "name": "ipython",
    "version": 3
   },
   "file_extension": ".py",
   "mimetype": "text/x-python",
   "name": "python",
   "nbconvert_exporter": "python",
   "pygments_lexer": "ipython3",
   "version": "3.8.8"
  }
 },
 "nbformat": 4,
 "nbformat_minor": 5
}
